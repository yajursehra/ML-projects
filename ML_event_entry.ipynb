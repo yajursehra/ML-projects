{
 "cells": [
  {
   "cell_type": "markdown",
   "id": "71f8e8ce",
   "metadata": {},
   "source": [
    "# ML Project Event entry"
   ]
  },
  {
   "cell_type": "code",
   "execution_count": 26,
   "id": "a462fc40",
   "metadata": {},
   "outputs": [],
   "source": [
    "import pandas as pd\n",
    "\n",
    "file_path = '/Users/Yajur/Downloads/Event_entry.csv'\n",
    "df = pd.read_csv(file_path)"
   ]
  },
  {
   "cell_type": "code",
   "execution_count": 27,
   "id": "fae4fa14",
   "metadata": {},
   "outputs": [
    {
     "data": {
      "text/html": [
       "<div>\n",
       "<style scoped>\n",
       "    .dataframe tbody tr th:only-of-type {\n",
       "        vertical-align: middle;\n",
       "    }\n",
       "\n",
       "    .dataframe tbody tr th {\n",
       "        vertical-align: top;\n",
       "    }\n",
       "\n",
       "    .dataframe thead th {\n",
       "        text-align: right;\n",
       "    }\n",
       "</style>\n",
       "<table border=\"1\" class=\"dataframe\">\n",
       "  <thead>\n",
       "    <tr style=\"text-align: right;\">\n",
       "      <th></th>\n",
       "      <th>Entry</th>\n",
       "      <th>TicketClass</th>\n",
       "      <th>Sex</th>\n",
       "      <th>Age</th>\n",
       "      <th>Price</th>\n",
       "      <th>Order</th>\n",
       "      <th>Name</th>\n",
       "      <th>Ticket Number</th>\n",
       "      <th>Bank Balance</th>\n",
       "    </tr>\n",
       "  </thead>\n",
       "  <tbody>\n",
       "    <tr>\n",
       "      <th>0</th>\n",
       "      <td>0</td>\n",
       "      <td>3</td>\n",
       "      <td>male</td>\n",
       "      <td>22.0</td>\n",
       "      <td>7</td>\n",
       "      <td>1</td>\n",
       "      <td>Braund, Mr. Owen Harris</td>\n",
       "      <td>648155</td>\n",
       "      <td>74389</td>\n",
       "    </tr>\n",
       "    <tr>\n",
       "      <th>1</th>\n",
       "      <td>1</td>\n",
       "      <td>1</td>\n",
       "      <td>female</td>\n",
       "      <td>38.0</td>\n",
       "      <td>71</td>\n",
       "      <td>2</td>\n",
       "      <td>Cumings, Mrs. John Bradley (Florence Briggs Th...</td>\n",
       "      <td>119239</td>\n",
       "      <td>94932</td>\n",
       "    </tr>\n",
       "    <tr>\n",
       "      <th>2</th>\n",
       "      <td>1</td>\n",
       "      <td>3</td>\n",
       "      <td>female</td>\n",
       "      <td>26.0</td>\n",
       "      <td>8</td>\n",
       "      <td>3</td>\n",
       "      <td>Heikkinen, Miss. Laina</td>\n",
       "      <td>411408</td>\n",
       "      <td>26146</td>\n",
       "    </tr>\n",
       "    <tr>\n",
       "      <th>3</th>\n",
       "      <td>1</td>\n",
       "      <td>1</td>\n",
       "      <td>female</td>\n",
       "      <td>35.0</td>\n",
       "      <td>53</td>\n",
       "      <td>4</td>\n",
       "      <td>Futrelle, Mrs. Jacques Heath (Lily May Peel)</td>\n",
       "      <td>530093</td>\n",
       "      <td>35627</td>\n",
       "    </tr>\n",
       "    <tr>\n",
       "      <th>4</th>\n",
       "      <td>0</td>\n",
       "      <td>3</td>\n",
       "      <td>male</td>\n",
       "      <td>35.0</td>\n",
       "      <td>8</td>\n",
       "      <td>5</td>\n",
       "      <td>Allen, Mr. William Henry</td>\n",
       "      <td>510583</td>\n",
       "      <td>60457</td>\n",
       "    </tr>\n",
       "  </tbody>\n",
       "</table>\n",
       "</div>"
      ],
      "text/plain": [
       "   Entry  TicketClass     Sex   Age  Price  Order  \\\n",
       "0      0            3    male  22.0      7      1   \n",
       "1      1            1  female  38.0     71      2   \n",
       "2      1            3  female  26.0      8      3   \n",
       "3      1            1  female  35.0     53      4   \n",
       "4      0            3    male  35.0      8      5   \n",
       "\n",
       "                                                Name  Ticket Number  \\\n",
       "0                            Braund, Mr. Owen Harris         648155   \n",
       "1  Cumings, Mrs. John Bradley (Florence Briggs Th...         119239   \n",
       "2                             Heikkinen, Miss. Laina         411408   \n",
       "3       Futrelle, Mrs. Jacques Heath (Lily May Peel)         530093   \n",
       "4                           Allen, Mr. William Henry         510583   \n",
       "\n",
       "   Bank Balance  \n",
       "0         74389  \n",
       "1         94932  \n",
       "2         26146  \n",
       "3         35627  \n",
       "4         60457  "
      ]
     },
     "execution_count": 27,
     "metadata": {},
     "output_type": "execute_result"
    }
   ],
   "source": [
    "df.head()"
   ]
  },
  {
   "cell_type": "code",
   "execution_count": 28,
   "id": "19c39a09",
   "metadata": {},
   "outputs": [
    {
     "name": "stdout",
     "output_type": "stream",
     "text": [
      "<class 'pandas.core.frame.DataFrame'>\n",
      "RangeIndex: 869 entries, 0 to 868\n",
      "Data columns (total 9 columns):\n",
      " #   Column         Non-Null Count  Dtype  \n",
      "---  ------         --------------  -----  \n",
      " 0   Entry          869 non-null    int64  \n",
      " 1   TicketClass    869 non-null    int64  \n",
      " 2   Sex            869 non-null    object \n",
      " 3   Age            694 non-null    float64\n",
      " 4   Price          869 non-null    int64  \n",
      " 5   Order          869 non-null    int64  \n",
      " 6   Name           869 non-null    object \n",
      " 7   Ticket Number  869 non-null    int64  \n",
      " 8   Bank Balance   869 non-null    int64  \n",
      "dtypes: float64(1), int64(6), object(2)\n",
      "memory usage: 61.2+ KB\n"
     ]
    }
   ],
   "source": [
    "df.info()"
   ]
  },
  {
   "cell_type": "code",
   "execution_count": 29,
   "id": "eda663d5",
   "metadata": {},
   "outputs": [
    {
     "data": {
      "text/plain": [
       "Entry              0\n",
       "TicketClass        0\n",
       "Sex                0\n",
       "Age              175\n",
       "Price              0\n",
       "Order              0\n",
       "Name               0\n",
       "Ticket Number      0\n",
       "Bank Balance       0\n",
       "dtype: int64"
      ]
     },
     "execution_count": 29,
     "metadata": {},
     "output_type": "execute_result"
    }
   ],
   "source": [
    "df.isnull().sum()"
   ]
  },
  {
   "cell_type": "code",
   "execution_count": 30,
   "id": "64807c57",
   "metadata": {},
   "outputs": [
    {
     "data": {
      "text/plain": [
       "Entry              int64\n",
       "TicketClass        int64\n",
       "Sex               object\n",
       "Age              float64\n",
       "Price              int64\n",
       "Order              int64\n",
       "Name              object\n",
       "Ticket Number      int64\n",
       "Bank Balance       int64\n",
       "dtype: object"
      ]
     },
     "execution_count": 30,
     "metadata": {},
     "output_type": "execute_result"
    }
   ],
   "source": [
    "df.dtypes"
   ]
  },
  {
   "cell_type": "code",
   "execution_count": 31,
   "id": "be55aab6",
   "metadata": {
    "scrolled": true
   },
   "outputs": [
    {
     "data": {
      "text/html": [
       "<div>\n",
       "<style scoped>\n",
       "    .dataframe tbody tr th:only-of-type {\n",
       "        vertical-align: middle;\n",
       "    }\n",
       "\n",
       "    .dataframe tbody tr th {\n",
       "        vertical-align: top;\n",
       "    }\n",
       "\n",
       "    .dataframe thead th {\n",
       "        text-align: right;\n",
       "    }\n",
       "</style>\n",
       "<table border=\"1\" class=\"dataframe\">\n",
       "  <thead>\n",
       "    <tr style=\"text-align: right;\">\n",
       "      <th></th>\n",
       "      <th>Entry</th>\n",
       "      <th>TicketClass</th>\n",
       "      <th>Age</th>\n",
       "      <th>Price</th>\n",
       "      <th>Order</th>\n",
       "      <th>Ticket Number</th>\n",
       "      <th>Bank Balance</th>\n",
       "    </tr>\n",
       "  </thead>\n",
       "  <tbody>\n",
       "    <tr>\n",
       "      <th>count</th>\n",
       "      <td>869.000000</td>\n",
       "      <td>869.000000</td>\n",
       "      <td>694.000000</td>\n",
       "      <td>869.000000</td>\n",
       "      <td>869.000000</td>\n",
       "      <td>869.000000</td>\n",
       "      <td>869.000000</td>\n",
       "    </tr>\n",
       "    <tr>\n",
       "      <th>mean</th>\n",
       "      <td>0.384350</td>\n",
       "      <td>2.307250</td>\n",
       "      <td>29.732233</td>\n",
       "      <td>32.594937</td>\n",
       "      <td>435.000000</td>\n",
       "      <td>479171.174914</td>\n",
       "      <td>50269.125432</td>\n",
       "    </tr>\n",
       "    <tr>\n",
       "      <th>std</th>\n",
       "      <td>0.486721</td>\n",
       "      <td>0.836222</td>\n",
       "      <td>14.599438</td>\n",
       "      <td>50.186076</td>\n",
       "      <td>251.002988</td>\n",
       "      <td>286307.965548</td>\n",
       "      <td>28158.833520</td>\n",
       "    </tr>\n",
       "    <tr>\n",
       "      <th>min</th>\n",
       "      <td>0.000000</td>\n",
       "      <td>1.000000</td>\n",
       "      <td>0.420000</td>\n",
       "      <td>0.000000</td>\n",
       "      <td>1.000000</td>\n",
       "      <td>1222.000000</td>\n",
       "      <td>108.000000</td>\n",
       "    </tr>\n",
       "    <tr>\n",
       "      <th>25%</th>\n",
       "      <td>0.000000</td>\n",
       "      <td>2.000000</td>\n",
       "      <td>20.125000</td>\n",
       "      <td>8.000000</td>\n",
       "      <td>218.000000</td>\n",
       "      <td>228933.000000</td>\n",
       "      <td>27438.000000</td>\n",
       "    </tr>\n",
       "    <tr>\n",
       "      <th>50%</th>\n",
       "      <td>0.000000</td>\n",
       "      <td>3.000000</td>\n",
       "      <td>28.000000</td>\n",
       "      <td>14.000000</td>\n",
       "      <td>435.000000</td>\n",
       "      <td>453195.000000</td>\n",
       "      <td>50588.000000</td>\n",
       "    </tr>\n",
       "    <tr>\n",
       "      <th>75%</th>\n",
       "      <td>1.000000</td>\n",
       "      <td>3.000000</td>\n",
       "      <td>38.000000</td>\n",
       "      <td>31.000000</td>\n",
       "      <td>652.000000</td>\n",
       "      <td>722522.000000</td>\n",
       "      <td>73549.000000</td>\n",
       "    </tr>\n",
       "    <tr>\n",
       "      <th>max</th>\n",
       "      <td>1.000000</td>\n",
       "      <td>3.000000</td>\n",
       "      <td>80.000000</td>\n",
       "      <td>512.000000</td>\n",
       "      <td>869.000000</td>\n",
       "      <td>999921.000000</td>\n",
       "      <td>99548.000000</td>\n",
       "    </tr>\n",
       "  </tbody>\n",
       "</table>\n",
       "</div>"
      ],
      "text/plain": [
       "            Entry  TicketClass         Age       Price       Order  \\\n",
       "count  869.000000   869.000000  694.000000  869.000000  869.000000   \n",
       "mean     0.384350     2.307250   29.732233   32.594937  435.000000   \n",
       "std      0.486721     0.836222   14.599438   50.186076  251.002988   \n",
       "min      0.000000     1.000000    0.420000    0.000000    1.000000   \n",
       "25%      0.000000     2.000000   20.125000    8.000000  218.000000   \n",
       "50%      0.000000     3.000000   28.000000   14.000000  435.000000   \n",
       "75%      1.000000     3.000000   38.000000   31.000000  652.000000   \n",
       "max      1.000000     3.000000   80.000000  512.000000  869.000000   \n",
       "\n",
       "       Ticket Number  Bank Balance  \n",
       "count     869.000000    869.000000  \n",
       "mean   479171.174914  50269.125432  \n",
       "std    286307.965548  28158.833520  \n",
       "min      1222.000000    108.000000  \n",
       "25%    228933.000000  27438.000000  \n",
       "50%    453195.000000  50588.000000  \n",
       "75%    722522.000000  73549.000000  \n",
       "max    999921.000000  99548.000000  "
      ]
     },
     "execution_count": 31,
     "metadata": {},
     "output_type": "execute_result"
    }
   ],
   "source": [
    "df.describe()"
   ]
  },
  {
   "cell_type": "markdown",
   "id": "8c252094",
   "metadata": {},
   "source": [
    "# 1. Data Visualization"
   ]
  },
  {
   "cell_type": "code",
   "execution_count": 32,
   "id": "dda1b056",
   "metadata": {},
   "outputs": [
    {
     "data": {
      "image/png": "[encoded data removed]",
      "text/plain": [
       "<Figure size 1600x1800 with 4 Axes>"
      ]
     },
     "metadata": {},
     "output_type": "display_data"
    }
   ],
   "source": [
    "import matplotlib.pyplot as plt\n",
    "import seaborn as sns\n",
    "\n",
    "sns.set(style=\"whitegrid\")\n",
    "fig, axes = plt.subplots(2, 2, figsize=(16, 18))\n",
    "\n",
    "# Histogram of Ages\n",
    "sns.histplot(event_entry_data['Age'].dropna(), bins=30, kde=True, ax=axes[0, 0])\n",
    "axes[0, 0].set_title('Distribution of Ages')\n",
    "\n",
    "# Box plot of Prices\n",
    "sns.boxplot(x='TicketClass', y='Price', data=event_entry_data, ax=axes[0, 1])\n",
    "axes[0, 1].set_title('Ticket Prices by Class')\n",
    "\n",
    "# Count plot of TicketClass\n",
    "sns.countplot(x='TicketClass', data=event_entry_data, ax=axes[1, 0])\n",
    "axes[1, 0].set_title('Count of Ticket Classes')\n",
    "\n",
    "# Count plot of Sex\n",
    "sns.countplot(x='Sex', data=event_entry_data, ax=axes[1, 1])\n",
    "axes[1, 1].set_title('Gender Distribution')\n",
    "\n",
    "# Adjust layout\n",
    "plt.tight_layout()\n",
    "\n",
    "plt.show()"
   ]
  },
  {
   "cell_type": "markdown",
   "id": "702b37bb",
   "metadata": {},
   "source": [
    "**Distribution of Ages:** The age distribution is right-skewed, indicating a younger population attending the event, with a peak around the late 20s.\n",
    "\n",
    "**Ticket Prices by Class:** The box plot shows the variation in ticket prices within each ticket class. Higher classes tend to have higher prices, but there is significant overlap, especially between Class 2 and Class 3.\n",
    "\n",
    "**Count of Ticket Classes:** The count plot shows the distribution of ticket classes, with the third class being the most common, indicating that a majority of the attendees purchased lower-class tickets.\n",
    "\n",
    "**Gender Distribution:** The gender distribution is with a slight predominance of male over female."
   ]
  },
  {
   "cell_type": "code",
   "execution_count": 33,
   "id": "a6a8c367",
   "metadata": {},
   "outputs": [],
   "source": [
    "# Drop missing values\n",
    "df = df.dropna()"
   ]
  },
  {
   "cell_type": "code",
   "execution_count": 34,
   "id": "6db1547f",
   "metadata": {},
   "outputs": [
    {
     "name": "stdout",
     "output_type": "stream",
     "text": [
      "<class 'pandas.core.frame.DataFrame'>\n",
      "Index: 694 entries, 0 to 867\n",
      "Data columns (total 9 columns):\n",
      " #   Column         Non-Null Count  Dtype  \n",
      "---  ------         --------------  -----  \n",
      " 0   Entry          694 non-null    int64  \n",
      " 1   TicketClass    694 non-null    int64  \n",
      " 2   Sex            694 non-null    object \n",
      " 3   Age            694 non-null    float64\n",
      " 4   Price          694 non-null    int64  \n",
      " 5   Order          694 non-null    int64  \n",
      " 6   Name           694 non-null    object \n",
      " 7   Ticket Number  694 non-null    int64  \n",
      " 8   Bank Balance   694 non-null    int64  \n",
      "dtypes: float64(1), int64(6), object(2)\n",
      "memory usage: 54.2+ KB\n"
     ]
    }
   ],
   "source": [
    "df.info()"
   ]
  },
  {
   "cell_type": "code",
   "execution_count": 35,
   "id": "fa31ebea",
   "metadata": {},
   "outputs": [],
   "source": [
    "from sklearn.model_selection import train_test_split\n",
    "from sklearn.preprocessing import LabelEncoder\n",
    "\n",
    "# Encode categorical variables\n",
    "label_encoder = LabelEncoder()\n",
    "df['Sex'] = label_encoder.fit_transform(df['Sex'])"
   ]
  },
  {
   "cell_type": "code",
   "execution_count": 37,
   "id": "e7d398d6",
   "metadata": {},
   "outputs": [],
   "source": [
    "X = df.drop(['Entry', 'Name', 'Ticket Number'], axis=1) # Dropping 'Name' and 'Ticket Number'\n",
    "y = df['Entry']"
   ]
  },
  {
   "cell_type": "code",
   "execution_count": 38,
   "id": "52ca26b9",
   "metadata": {},
   "outputs": [
    {
     "data": {
      "text/plain": [
       "((555, 6), (139, 6), (555,), (139,))"
      ]
     },
     "execution_count": 38,
     "metadata": {},
     "output_type": "execute_result"
    }
   ],
   "source": [
    "# Split the dataset into training (80%) and testing (20%) sets\n",
    "X_train, X_test, y_train, y_test = train_test_split(X, y, test_size=0.2, random_state=42)\n",
    "\n",
    "X_train.shape, X_test.shape, y_train.shape, y_test.shape"
   ]
  },
  {
   "cell_type": "markdown",
   "id": "355904cf",
   "metadata": {},
   "source": [
    "# 2. PCA Analysis"
   ]
  },
  {
   "cell_type": "markdown",
   "id": "3bd4cfdf",
   "metadata": {},
   "source": [
    "## Initial Logistic Regression Model"
   ]
  },
  {
   "cell_type": "code",
   "execution_count": 39,
   "id": "b1a5d4b5",
   "metadata": {},
   "outputs": [
    {
     "data": {
      "text/plain": [
       "0.8057553956834532"
      ]
     },
     "execution_count": 39,
     "metadata": {},
     "output_type": "execute_result"
    }
   ],
   "source": [
    "from sklearn.linear_model import LogisticRegression\n",
    "from sklearn.metrics import accuracy_score\n",
    "\n",
    "logistic_model = LogisticRegression(max_iter=1000, random_state=42)\n",
    "logistic_model.fit(X_train, y_train)\n",
    "\n",
    "y_pred = logistic_model.predict(X_test)\n",
    "\n",
    "initial_accuracy = accuracy_score(y_test, y_pred)\n",
    "initial_accuracy"
   ]
  },
  {
   "cell_type": "markdown",
   "id": "05db1e00",
   "metadata": {},
   "source": [
    "## 2. Apply PCA"
   ]
  },
  {
   "cell_type": "code",
   "execution_count": 40,
   "id": "78e787b9",
   "metadata": {},
   "outputs": [
    {
     "data": {
      "text/plain": [
       "{2: 0.6402877697841727, 4: 0.6762589928057554, 6: 0.7913669064748201}"
      ]
     },
     "execution_count": 40,
     "metadata": {},
     "output_type": "execute_result"
    }
   ],
   "source": [
    "from sklearn.decomposition import PCA\n",
    "from sklearn.pipeline import make_pipeline\n",
    "\n",
    "def pca_function(dimensions, X_train, X_test, y_train, y_test):\n",
    "    results = {}\n",
    "    for dim in dimensions:\n",
    "        \n",
    "        pca = PCA(n_components=dim, random_state=42)\n",
    "        \n",
    "        pipeline = make_pipeline(pca, LogisticRegression(max_iter=1000, random_state=42))\n",
    "        \n",
    "        pipeline.fit(X_train, y_train)\n",
    "        \n",
    "        y_pred = pipeline.predict(X_test)\n",
    "        \n",
    "        accuracy = accuracy_score(y_test, y_pred)\n",
    "        \n",
    "        results[dim] = accuracy\n",
    "    \n",
    "    return results\n",
    "\n",
    "# Evaluate PCA with 2, 4, and 6 dimensions\n",
    "dimensions = [2, 4, 6]\n",
    "pca_results = pca_function(dimensions, X_train, X_test, y_train, y_test)\n",
    "pca_results"
   ]
  },
  {
   "cell_type": "markdown",
   "id": "f517d137",
   "metadata": {},
   "source": [
    "## 3. Lasso"
   ]
  },
  {
   "cell_type": "code",
   "execution_count": 42,
   "id": "62d68598",
   "metadata": {},
   "outputs": [
    {
     "data": {
      "text/plain": [
       "0.8201438848920863"
      ]
     },
     "execution_count": 42,
     "metadata": {},
     "output_type": "execute_result"
    }
   ],
   "source": [
    "lasso_model = LogisticRegression(penalty='l1', solver='liblinear', max_iter=1000, random_state=42)\n",
    "lasso_model.fit(X_train, y_train)\n",
    "\n",
    "y_pred_lasso = lasso_model.predict(X_test)\n",
    "\n",
    "lasso_accuracy = accuracy_score(y_test, y_pred_lasso)\n",
    "lasso_accuracy"
   ]
  },
  {
   "cell_type": "markdown",
   "id": "a3608eee",
   "metadata": {},
   "source": [
    "In summary, the PCA with 6 dimensions and the LASSO Logistic Regression model performed similarly for out of examples. This demonstrates that the trade-off between model simplicity and performance, where PCA can reduce the feature and do a minimal impact on accuracy. The LASSO model, performing feature selection through regularization,  offers a more interpretable model. "
   ]
  }
 ],
 "metadata": {
  "kernelspec": {
   "display_name": "Python 3 (ipykernel)",
   "language": "python",
   "name": "python3"
  },
  "language_info": {
   "codemirror_mode": {
    "name": "ipython",
    "version": 3
   },
   "file_extension": ".py",
   "mimetype": "text/x-python",
   "name": "python",
   "nbconvert_exporter": "python",
   "pygments_lexer": "ipython3",
   "version": "3.11.5"
  }
 },
 "nbformat": 4,
 "nbformat_minor": 5
}
